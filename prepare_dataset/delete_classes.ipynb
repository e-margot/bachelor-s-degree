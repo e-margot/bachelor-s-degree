{
  "nbformat": 4,
  "nbformat_minor": 0,
  "metadata": {
    "colab": {
      "provenance": [],
      "authorship_tag": "ABX9TyNHXUOARdBlpTE9aS4gecwq",
      "include_colab_link": true
    },
    "kernelspec": {
      "name": "python3",
      "display_name": "Python 3"
    },
    "language_info": {
      "name": "python"
    }
  },
  "cells": [
    {
      "cell_type": "markdown",
      "metadata": {
        "id": "view-in-github",
        "colab_type": "text"
      },
      "source": [
        "<a href=\"https://colab.research.google.com/github/e-margot/bachelor-s-degree/blob/main/prepare_dataset/delete_classes.ipynb\" target=\"_parent\"><img src=\"https://colab.research.google.com/assets/colab-badge.svg\" alt=\"Open In Colab\"/></a>"
      ]
    },
    {
      "cell_type": "code",
      "execution_count": null,
      "metadata": {
        "colab": {
          "base_uri": "https://localhost:8080/"
        },
        "id": "pnwtlCjQfp1x",
        "outputId": "e00cd991-2247-4672-d30a-8b330f9c741f"
      },
      "outputs": [
        {
          "output_type": "stream",
          "name": "stdout",
          "text": [
            "Mounted at /content/drive\n"
          ]
        }
      ],
      "source": [
        "from google.colab import drive\n",
        "drive.mount('/content/drive')"
      ]
    },
    {
      "cell_type": "code",
      "source": [
        "import json\n",
        "from PIL import Image\n",
        "import os"
      ],
      "metadata": {
        "id": "9K7av3gipxsi"
      },
      "execution_count": null,
      "outputs": []
    },
    {
      "cell_type": "markdown",
      "source": [
        "\n",
        "\n",
        "---\n",
        "\n"
      ],
      "metadata": {
        "id": "hBOKvFqQ4oFX"
      }
    },
    {
      "cell_type": "markdown",
      "source": [
        "# Add classes 2, 4, 6 and 8 at class 79"
      ],
      "metadata": {
        "id": "cKWlbE6oShNC"
      }
    },
    {
      "cell_type": "code",
      "source": [
        "def remane_cat(path):\n",
        "  with open(path + 'ann.json', \"r\") as jsonFile:\n",
        "    data = json.load(jsonFile)\n",
        "  for i in data[\"annotations\"]:\n",
        "    if i['category_id'] == 2 or i['category_id'] == 4 or i['category_id'] == 6 or i['category_id'] == 8:\n",
        "      i['category_id'] = 79\n",
        "    \n",
        "  with open(path + 'ann.json', \"w\") as jsonFile:\n",
        "    jsonFile.seek(0)  # rewind\n",
        "    json.dump(data, jsonFile, indent = 4)"
      ],
      "metadata": {
        "id": "DO187_dz1vuY"
      },
      "execution_count": null,
      "outputs": []
    },
    {
      "cell_type": "code",
      "source": [
        "path = '/content/drive/MyDrive/FLIR_ADAS_v2/FLIR_ADAS_v2/images_rgb_val/'\n",
        "remane_cat(path)"
      ],
      "metadata": {
        "id": "VbMptv1n18IG"
      },
      "execution_count": null,
      "outputs": []
    },
    {
      "cell_type": "markdown",
      "source": [
        "# Remove pictures and useless classes (7,11,37,75)\n"
      ],
      "metadata": {
        "id": "9E9pL6NQ_6lz"
      }
    },
    {
      "cell_type": "code",
      "source": [
        "def delete_cat(path):\n",
        "  with open(path + 'ann.json', \"r\") as jsonFile:\n",
        "    data = json.load(jsonFile)\n",
        "  end = len(data['annotations'])\n",
        "  i = 0\n",
        "  count = 0\n",
        "  for j in range(len(data['annotations'])):\n",
        "    if data['annotations'][j]['category_id'] == 7 or data['annotations'][j]['category_id'] == 11 or data['annotations'][j]['category_id'] == 37 or data['annotations'][j]['category_id'] == 73 or data['annotations'][j]['category_id'] == 75:\n",
        "      count+=1\n",
        "  while i!=(end-count):\n",
        "    if data['annotations'][i]['category_id'] == 7 or data['annotations'][i]['category_id'] == 11 or data['annotations'][i]['category_id'] == 37 or data['annotations'][i]['category_id'] == 73 or data['annotations'][i]['category_id'] == 75:\n",
        "      if os.path.exists(os.path.basename(data['annotations'][i]['file_name'])):\n",
        "        os.remove(path + 'new_data/' + os.path.basename(data['annotations'][i]['file_name']))\n",
        "      else: \n",
        "        print('no such file')\n",
        "        print(path + 'new_data/' + os.path.basename(data['annotations'][i]['file_name']))\n",
        "        print(data['annotations'][i]['category_id'])\n",
        "\n",
        "      data['annotations'].pop(i)\n",
        "    else:\n",
        "      i+=1\n",
        "  with open(path + 'ann.json', \"w\") as jsonFile:\n",
        "    jsonFile.seek(0)\n",
        "    json.dump(data, jsonFile, indent = 4)"
      ],
      "metadata": {
        "id": "8Rkshcw7TlkU"
      },
      "execution_count": null,
      "outputs": []
    },
    {
      "cell_type": "code",
      "source": [
        "path = '/content/drive/MyDrive/FLIR_ADAS_v2/FLIR_ADAS_v2/video_thermal_test/'\n",
        "delete_cat(path)"
      ],
      "metadata": {
        "id": "7kav3K5EV-Ke"
      },
      "execution_count": null,
      "outputs": []
    },
    {
      "cell_type": "code",
      "source": [
        "path = '/content/drive/MyDrive/FLIR_ADAS_v2/FLIR_ADAS_v2/video_rgb_test/'\n",
        "delete_cat(path)"
      ],
      "metadata": {
        "id": "VrDx1D--bJSI"
      },
      "execution_count": null,
      "outputs": []
    },
    {
      "cell_type": "code",
      "source": [
        "path = '/content/drive/MyDrive/FLIR_ADAS_v2/FLIR_ADAS_v2/images_thermal_val/'\n",
        "delete_cat(path)"
      ],
      "metadata": {
        "id": "jasLOZ78bdUb"
      },
      "execution_count": null,
      "outputs": []
    },
    {
      "cell_type": "code",
      "source": [
        "path = '/content/drive/MyDrive/FLIR_ADAS_v2/FLIR_ADAS_v2/images_thermal_train/'\n",
        "delete_cat(path)"
      ],
      "metadata": {
        "id": "HoQk8KffcIfC"
      },
      "execution_count": null,
      "outputs": []
    },
    {
      "cell_type": "code",
      "source": [
        "path = '/content/drive/MyDrive/FLIR_ADAS_v2/FLIR_ADAS_v2/images_rgb_val/'\n",
        "delete_cat(path)"
      ],
      "metadata": {
        "id": "Yxa7VefGcJ8V"
      },
      "execution_count": null,
      "outputs": []
    },
    {
      "cell_type": "code",
      "source": [
        "path = '/content/drive/MyDrive/FLIR_ADAS_v2/FLIR_ADAS_v2/images_rgb_train/'\n",
        "delete_cat(path)"
      ],
      "metadata": {
        "id": "cy3aHNU2cMTH"
      },
      "execution_count": null,
      "outputs": []
    }
  ]
}